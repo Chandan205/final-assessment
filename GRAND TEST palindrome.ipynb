{
  "nbformat": 4,
  "nbformat_minor": 0,
  "metadata": {
    "colab": {
      "name": "palindrome",
      "version": "0.3.2",
      "provenance": []
    },
    "kernelspec": {
      "name": "python3",
      "display_name": "Python 3"
    }
  },
  "cells": [
    {
      "cell_type": "code",
      "metadata": {
        "id": "sDNpjaBKydM9",
        "colab_type": "code",
        "colab": {
          "base_uri": "https://localhost:8080/",
          "height": 34
        },
        "outputId": "8128775c-dca9-447b-8c62-85bc85448129"
      },
      "source": [
        "# Program to check if a string\n",
        "#  is palindrome or not\n",
        "\n",
        "# change this value for a different output\n",
        "my_str = '12221'\n",
        "\n",
        "# make it suitable for caseless comparison\n",
        "my_str = my_str.casefold()\n",
        "\n",
        "# reverse the string\n",
        "rev_str = reversed(my_str)\n",
        "\n",
        "# check if the string is equal to its reverse\n",
        "if list(my_str) == list(rev_str):\n",
        "   print(\"It is palindrome\")\n",
        "else:\n",
        "   print(\"It is not palindrome\")"
      ],
      "execution_count": 3,
      "outputs": [
        {
          "output_type": "stream",
          "text": [
            "It is not palindrome\n"
          ],
          "name": "stdout"
        }
      ]
    }
  ]
}